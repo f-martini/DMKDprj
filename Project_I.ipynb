{
 "cells": [
  {
   "cell_type": "markdown",
   "metadata": {},
   "source": [
    "# Project I : \n",
    "## Association Rules in a Temporal Transactions Dataset"
   ]
  },
  {
   "cell_type": "code",
   "execution_count": 1,
   "metadata": {},
   "outputs": [
    {
     "name": "stdout",
     "output_type": "stream",
     "text": [
      "\u001b[33mWARNING: The directory '/home/jovyan/.cache/pip' or its parent directory is not owned or is not writable by the current user. The cache has been disabled. Check the permissions and owner of that directory. If executing pip with sudo, you may want sudo's -H flag.\u001b[0m\n",
      "Collecting openpyxl\n",
      "  Downloading openpyxl-3.0.7-py2.py3-none-any.whl (243 kB)\n",
      "\u001b[K     |████████████████████████████████| 243 kB 3.6 MB/s eta 0:00:01\n",
      "\u001b[?25hCollecting et-xmlfile\n",
      "  Downloading et_xmlfile-1.0.1.tar.gz (8.4 kB)\n",
      "Building wheels for collected packages: et-xmlfile\n",
      "  Building wheel for et-xmlfile (setup.py) ... \u001b[?25ldone\n",
      "\u001b[?25h  Created wheel for et-xmlfile: filename=et_xmlfile-1.0.1-py3-none-any.whl size=8913 sha256=37a1ff78dc3f3f985958cf160060d1cf903daab44ec1b6b40e09c99d75f34829\n",
      "  Stored in directory: /tmp/pip-ephem-wheel-cache-2h5aoykh/wheels/6e/df/38/abda47b884e3e25f9f9b6430e5ce44c47670758a50c0c51759\n",
      "Successfully built et-xmlfile\n",
      "Installing collected packages: et-xmlfile, openpyxl\n",
      "Successfully installed et-xmlfile-1.0.1 openpyxl-3.0.7\n"
     ]
    }
   ],
   "source": [
    "!pip install openpyxl  # uncomment if request by pandas .xlsx data loader\n",
    "import openpyxl        # uncomment if request by pandas .xlsx data loader\n",
    "import pandas as pd\n",
    "import seaborn as sns\n",
    "import numpy as np\n",
    "import matplotlib.pyplot as plt\n",
    "from mlxtend.frequent_patterns import apriori\n",
    "from mlxtend.frequent_patterns import association_rules\n",
    "from mlxtend.preprocessing import TransactionEncoder\n",
    "from collections import Counter\n",
    "import scipy\n",
    "from pandas.plotting import parallel_coordinates\n",
    "import os\n",
    "from pandas.plotting import scatter_matrix\n",
    "\n",
    "if not os.path.exists('./Online_Retail.xlsx'):\n",
    "    !wget https://archive.ics.uci.edu/ml/machine-learning-databases/00352/Online%20Retail.xlsx -O ./Online_Retail.xlsx"
   ]
  },
  {
   "cell_type": "markdown",
   "metadata": {},
   "source": [
    "## Utils:"
   ]
  },
  {
   "cell_type": "markdown",
   "metadata": {},
   "source": [
    "> **count_intervalset(sar, tt, d):**\n",
    "\n",
    "The function has the goal to compute simultaneously *Count(X,Y,b1,D)* and check the presence of the interval sets *(X,b2,D)* and *(Y,b3,D)* wrt a temporal transaction, a slide association rule X->Y and a temporal-span D given as input parameters. The counting of (X,Y,b1,D) will consider only inteval sets which start with an item in X and where the first item of Y appears with a timestamp strictly grater than b1. \n",
    "\n",
    "**Input:**   \n",
    "    - *sar:* temporal transaction rule X->Y in the form [ frozenset[X], frozenset[Y] ]        \n",
    "    - *tt:* temporal transaction in the form [ [items_list], [timestamp_list] ]        \n",
    "    - *d:* temporal-span     \n",
    "    \n",
    "**Output:**   \n",
    "    - *count:* Count(X,Y,b1,D)   \n",
    "    - *count_X:* 1 if tt feature (X,b1,d) for some b1 0 otherwise   \n",
    "    - *count_Y:* 1 if tt feature (Y,b2,d) for some b2 0 otherwise   "
   ]
  },
  {
   "cell_type": "code",
   "execution_count": 2,
   "metadata": {},
   "outputs": [],
   "source": [
    "def count_intervalset(sar, tt, d):\n",
    "    \n",
    "    count = 0\n",
    "    count_X = 0\n",
    "    count_Y = 0\n",
    "    basetime = None\n",
    "    \n",
    "    # iterate through each item in tt\n",
    "    for i in range(0,len(tt[0])): \n",
    "        \n",
    "        present = []\n",
    "        present_X = []\n",
    "        present_Y = []\n",
    "        absent = (list(sar[0])+list(sar[1]))[:]\n",
    "        absent_X = list(sar[0])[:]\n",
    "        absent_Y = list(sar[1])[:]\n",
    "        \n",
    "        # skip the iteration if the item is not part of the rule\n",
    "        if(tt[0][i] in absent):\n",
    "            \n",
    "            # skip the iteration if the item has the same timestamp of the one checked previously\n",
    "            if(basetime != None):\n",
    "                if(basetime == tt[1][i]):    \n",
    "                    continue\n",
    "            basetime = tt[1][i]\n",
    "            \n",
    "            # iterate through each item whose timestamp are smaller than basetime+d \n",
    "            for idx in range(i,len(tt[0])):\n",
    "                \n",
    "                if(tt[1][idx] > basetime+d):\n",
    "                    break\n",
    "                \n",
    "                # Y item check\n",
    "                if((tt[1][idx] <= basetime+d and tt[0][idx] in absent_Y)):\n",
    "                    present_Y.append(tt[0][idx])\n",
    "                    absent_Y.remove(tt[0][idx])\n",
    "                \n",
    "                # X item check\n",
    "                if((tt[1][idx] <= basetime+d and tt[0][idx] in absent_X)):\n",
    "                    present_X.append(tt[0][idx])\n",
    "                    absent_X.remove(tt[0][idx])\n",
    "                    # ensure 'XUY item check' start with an element in the rule's antecedent\n",
    "                    if (len(present) == 0 and tt[1][idx] == basetime):\n",
    "                        present.append(tt[0][idx])\n",
    "                        absent.remove(tt[0][idx])\n",
    "                \n",
    "                # XUY item check\n",
    "                if((tt[1][idx] <= basetime+d and tt[0][idx] in absent) and len(present) != 0):\n",
    "                    # keep the item in absent if it's part of the consequent and it has the same timestamp of the first items\n",
    "                    if(tt[0][idx] in sar[1] and tt[1][idx] == basetime):\n",
    "                        continue\n",
    "                    # keep the item in absent if it's part of the antecedent and has timestamp equal to basetime+d        \n",
    "                    if(tt[0][idx] in sar[0] and tt[1][idx] == basetime+d):\n",
    "                        continue\n",
    "                    present.append(tt[0][idx])\n",
    "                    absent.remove(tt[0][idx])    \n",
    "                        \n",
    "        if(len(absent) == 0):\n",
    "            count = count + 1\n",
    "        if(len(absent_X) == 0):\n",
    "            count_X = 1\n",
    "        if(len(absent_Y) == 0):\n",
    "            count_Y = 1\n",
    "\n",
    "    \n",
    "    return [count, count_X, count_Y]       \n"
   ]
  },
  {
   "cell_type": "markdown",
   "metadata": {},
   "source": [
    "> **count_sar(sar, tt, d):**\n",
    "\n",
    "This function compute and return *Count(X->Y,b,D)* wrt a temporal transaction tt and a temporal-span d.    \n",
    "\n",
    "**Input:**   \n",
    "    - *sar:* temporal transaction rule X->Y in the form [ frozenset[X], frozenset[Y] ]        \n",
    "    - *tt:* temporal transaction in the form [ [items_list], [timestamp_list] ]        \n",
    "    - *d:* temporal-span     \n",
    "    \n",
    "**Output:**   \n",
    "    - *count:* Count(X->Y,b,D) "
   ]
  },
  {
   "cell_type": "code",
   "execution_count": 3,
   "metadata": {},
   "outputs": [],
   "source": [
    "def count_sar(sar, tt, d):\n",
    "    \n",
    "    count = 0\n",
    "    basetime = None\n",
    "    \n",
    "    # iterate through each item in tt\n",
    "    for i in range(0,len(tt[0])): \n",
    "        \n",
    "        present_X = []\n",
    "        present_Y = []\n",
    "        absent_X = list(sar[0])[:]\n",
    "        absent_Y = list(sar[1])[:]\n",
    "        cuttime = None\n",
    "        \n",
    "        # skip the iteration if the item is not part of the antecedent of the rule  \n",
    "        if(tt[0][i] in absent_X):\n",
    "            \n",
    "            # skip the iteration if the item has the same timestamp of the one checked previously\n",
    "            if(basetime != None):\n",
    "                if(basetime == tt[1][i]):    \n",
    "                    continue            \n",
    "            basetime = tt[1][i]\n",
    "            \n",
    "            # iterate through each item whose timestamp are smaller than basetime+d \n",
    "            for idx in range(i,len(tt[0])):\n",
    "                \n",
    "                if(len(absent_X) != 0):\n",
    "                    # check item is in X and set the cuttime if all element in the antecedent of the rule have been finded\n",
    "                    if((tt[1][idx] <= basetime+d and tt[0][idx] in absent_X)):\n",
    "                        present_X.append(tt[0][idx])\n",
    "                        absent_X.remove(tt[0][idx])    \n",
    "                    if(len(absent_X) == 0):\n",
    "                        cuttime = tt[1][idx]\n",
    "                else:\n",
    "                    # check item is in Y only if absent_X is empty and its timestamp is in a valid range\n",
    "                    if(tt[0][idx] in absent_Y and tt[1][idx] > cuttime and tt[1][idx] <= basetime+d):\n",
    "                        present_Y.append(tt[0][idx])\n",
    "                        absent_Y.remove(tt[0][idx])\n",
    "                \n",
    "        \n",
    "        if(len(absent_X) == 0 and len(absent_Y) == 0):\n",
    "            count = count + 1\n",
    "    \n",
    "    return count\n"
   ]
  },
  {
   "cell_type": "markdown",
   "metadata": {},
   "source": [
    "> **support_trans(sar, tt, d):**\n",
    "\n",
    "This function return the transaction-level support of a slide association rule X->Y wrt a temporal transaction tt along with two integer which certify the presence of the interval set *(X,b2,D)* and *(Y,b3,D)* in the transaction.     \n",
    "\n",
    "**Input:**   \n",
    "    - *sar:* temporal transaction rule X->Y in the form [ frozenset[X], frozenset[Y] ]        \n",
    "    - *tt:* temporal transaction in the form [ [items_list], [timestamp_list] ]        \n",
    "    - *d:* temporal-span     \n",
    "    \n",
    "**Output:**   \n",
    "    - *v:* transactional level support = num/den  \n",
    "    - *v_X:* 1 if tt feature (X,b1,d) for some b1 0 otherwise   \n",
    "    - *v_Y:* 1 if tt feature (Y,b2,d) for some b2 0 otherwise   "
   ]
  },
  {
   "cell_type": "code",
   "execution_count": 4,
   "metadata": {},
   "outputs": [],
   "source": [
    "def support_trans(sar, tt, d):\n",
    "    \n",
    "    num = count_sar(sar, tt, d)\n",
    "    den, v_X, v_Y = count_intervalset(sar, tt, d)\n",
    "    \n",
    "    if (den > 0):\n",
    "        v = num/den\n",
    "    else:\n",
    "        v = 0\n",
    "        \n",
    "    return [v, v_X, v_Y]\n",
    "    "
   ]
  },
  {
   "cell_type": "markdown",
   "metadata": {},
   "source": [
    "> **support_sar(sar, tdt, d, tsi, epsilon):**\n",
    "\n",
    "This function return the transaction-level support of a slide association rule X->Y wrt a temporal transaction dataset tdt along with two integer which represent the support of the antecedent and consequent of the rule. For each transaction is computed the transaction_level support: the contribution that this value will give to the whole support is defined by the temporal support indicator *tsi* and, in case tsi='value', the threshold value epsilon.       \n",
    "\n",
    "**Input:**   \n",
    "    - *sar:* temporal transaction rule X->Y in the form [ frozenset[X], frozenset[Y] ]        \n",
    "    - *tdt:* temporal transaction dataset in the form [[ [items_list], [timestamp_list] ]...]        \n",
    "    - *d:* temporal-span     \n",
    "    - *tsi:* one of the following temporal suport indicator: {'value', 'universal', 'existential', 'epsilon'}.    \n",
    "    - *epsilon:* threshold value to take into consideration if tsi='value'     \n",
    "    \n",
    "**Output:**   \n",
    "    - *supp:* temporal support wrt the rule X->Y and the time-span D   \n",
    "    - *supp_X:* temporal support of the set X on a time-span D    \n",
    "    - *supp_Y:* temporal support of the set Y on a time-span D   "
   ]
  },
  {
   "cell_type": "code",
   "execution_count": 5,
   "metadata": {},
   "outputs": [],
   "source": [
    "def support_sar(sar, tdt, d, tsi, epsilon):\n",
    "    \n",
    "    count = 0\n",
    "    count_X = 0\n",
    "    count_Y = 0\n",
    "    \n",
    "    for tt in tdt:\n",
    "        v, v_X, v_Y = support_trans(sar, tt, d)\n",
    "        count_X = count_X + v_X\n",
    "        count_Y = count_Y + v_Y\n",
    "        if(tsi == \"value\"):\n",
    "            count = count + v \n",
    "        else:           \n",
    "            if(tsi == \"universal\" and v != 1 ):\n",
    "                continue;\n",
    "            if(tsi == \"existential\" and v == 0):\n",
    "                continue;\n",
    "            if(tsi == \"epsilon\" and v < epsilon):\n",
    "                continue;\n",
    "            count = count + 1\n",
    "        \n",
    "    supp = float(count)/len(tdt)\n",
    "    supp_X = float(count_X)/len(tdt)\n",
    "    supp_Y = float(count_Y)/len(tdt)\n",
    "\n",
    "    return [supp, supp_X, supp_Y]\n"
   ]
  },
  {
   "cell_type": "markdown",
   "metadata": {},
   "source": [
    "> **find_sars(tdt, rules, d, ts, tsi, epsilon):**\n",
    "\n",
    "The goal of this function is to filter a list of slide association rules keeping only the ones with temporal support greater or equal to the threshold value ts. The function computes the support of the antecedent and consequent of the rule and return these value along with the support of the rules and the rules themself.         \n",
    "\n",
    "**Input:**   \n",
    "    - *tdt:* temporal transaction dataset in the form [[ [items_list], [timestamp_list] ]...]           \n",
    "    - *rules:* list of slide association rules in the form [[ frozenset[X], frozenset[Y] ]...]         \n",
    "    - *d:* temporal-span  \n",
    "    - *ts:* temporal support threshold  \n",
    "    - *tsi:* one of the following temporal suport indicator: {'value', 'universal', 'existential', 'epsilon'}    \n",
    "    - *epsilon:* threshold value to take into consideration if tsi='value'     \n",
    "    \n",
    "**Output:**   \n",
    "    - *sars:* list of slide association rules in the form [[ frozenset[X], frozenset[Y], supp_rule, supp_X, supp_Y]...]  "
   ]
  },
  {
   "cell_type": "code",
   "execution_count": 6,
   "metadata": {},
   "outputs": [],
   "source": [
    "def find_sars(tdt, rules, d, ts, tsi, epsilon):\n",
    "    \n",
    "    sars = []\n",
    "    \n",
    "    for r in rules:\n",
    "        supp_s, supp_X, supp_Y = support_sar(r, tdt, d, tsi, epsilon)\n",
    "        if(supp_s >= ts):\n",
    "            tmp = []\n",
    "            tmp.append(r[0])\n",
    "            tmp.append(r[1])\n",
    "            tmp.append(supp_s)\n",
    "            tmp.append(supp_X)\n",
    "            tmp.append(supp_Y)\n",
    "            sars.append(tmp)\n",
    "            \n",
    "    return sars\n",
    "    "
   ]
  },
  {
   "cell_type": "markdown",
   "metadata": {},
   "source": [
    "> **filter_sars(sars, tmn, tv):**\n",
    "\n",
    "The goal of this function is to filter a list of slide association rules keeping only the ones with 'metric' greater or equal to the threshold value tv. The metric to use as reference is the one whose name is contained in tmn.         \n",
    "\n",
    "**Input:**   \n",
    "    - *sars:* list of slide association rules in the form [[ frozenset[X], frozenset[Y], supp_rule, supp_X, supp_Y]...]             \n",
    "    - *tmn:* a metric name from the following set: {'confidence', 'lift', 'completeness'}            \n",
    "    - *tv:* metric threshold value     \n",
    "    \n",
    "**Output:**   \n",
    "    - *f_sars:* the filtered list of slide association rules in the form [[ frozenset[X], frozenset[Y], supp_rule, supp_X, supp_Y]...] "
   ]
  },
  {
   "cell_type": "code",
   "execution_count": 7,
   "metadata": {},
   "outputs": [],
   "source": [
    "def filter_sars(sars, tmn, tv):\n",
    "    \n",
    "    f_sars = []\n",
    "    \n",
    "    for sar in sars:\n",
    "        if(tmn == \"confidence\" and tv <= sar[2]/sar[3]):\n",
    "            f_sars.append(sar)\n",
    "            \n",
    "        if(tmn == \"lift\" and tv <= sar[2]/(sar[3]*sar[4])):\n",
    "            f_sars.append(sar)\n",
    "    \n",
    "        if(tmn == \"completeness\" and tv <= sar[2]/sar[4]):\n",
    "            f_sars.append(sar)\n",
    "    \n",
    "    return f_sars\n"
   ]
  },
  {
   "cell_type": "markdown",
   "metadata": {},
   "source": [
    "> **extract_sars(tdt, ...):**\n",
    "\n",
    "The goal of this function is to generate the association rules (standard and slide) wrt the temporal transactional dataset tdt (with attributes 'Transaction_ID', 'Item_Label', and 'TimeStamp') and the other function's parameters.   \n",
    "*!WARNING!: there's NOT a control phase to check that the parameters are in range/valid!*  \n",
    "*!WARNING!: currently there is NOT an implementation of the static association rules extractor which use 'completeness' as filter metric!*\n",
    "\n",
    "**Input:**  \n",
    "    - *tdt:* pandas DataFrame representing the temporal transactional dataset      \n",
    "    - *static_support = 0.05:* static support threshold value     \n",
    "    - *static_metric_name = 'confidence':* reference metric for the static rules pruning, one in {'confidence', 'lift', 'completeness'}     \n",
    "    - *static_metric_value = 0.8:* static metric threshold value  \n",
    "    - *duration = 100:* time-span  \n",
    "    - *temporal_support_indicator = 'value':* reference count-function related to the temporal support, one in {'value', 'universal', 'existential', 'epsilon'}    \n",
    "    - *indicator_epsilon_value = 0.2:* epsilon threshold value   \n",
    "    - *temporal_support = 0.02:* temporal support threshold value   \n",
    "    - *temporal_metric_name = 'confidence':* reference metric for the temporal rules pruning, one in {'confidence', 'lift', 'completeness'}        \n",
    "    - *temporal_metric_value = 0.3:* temporal metric threshold value   \n",
    "\n",
    "**Output:**    \n",
    "    - ar: a list of 2 element: the first is the pandas DataFrame of the standard association rules, the second is the DataFrame of the slide association rules."
   ]
  },
  {
   "cell_type": "code",
   "execution_count": 8,
   "metadata": {},
   "outputs": [],
   "source": [
    "def extract_sars(tdt,\n",
    "                static_support = 0.05, \n",
    "                static_metric_name = 'confidence', \n",
    "                static_metric_value = 0.8, \n",
    "                duration = 100, \n",
    "                temporal_support_indicator = 'value', \n",
    "                indicator_epsilon_value = 0.2,\n",
    "                temporal_support = 0.02,\n",
    "                temporal_metric_name = 'confidence',\n",
    "                temporal_metric_value = 0.3):\n",
    "    \n",
    "    ar = []\n",
    "    \n",
    "    transactions_ = tdt.groupby(['Transaction_ID'])['Item_Label'].apply(list).values.tolist()\n",
    "    te = TransactionEncoder()\n",
    "    onehot = te.fit(transactions_).transform(transactions_)\n",
    "    onehot.astype(\"int\")\n",
    "    dft = pd.DataFrame(onehot, columns=te.columns_)\n",
    "    \n",
    "    frequent_itemsets = apriori(dft, min_support = static_support, use_colnames = True)    \n",
    "    \n",
    "    # dataframe refactor if 'completeness' is chosen as metric (swap antecedents & consequents)\n",
    "    if static_metric_name == 'completeness':\n",
    "        ar.append(association_rules(frequent_itemsets, metric = 'confidence', min_threshold = static_metric_value))\n",
    "        tmp = ar[0]['antecedents'].values.tolist()\n",
    "        ar[0]['antecedents'] = ar[0]['consequents']\n",
    "        ar[0]['consequents'] = tmp\n",
    "        tmp = ar[0]['antecedent support'].values.tolist()\n",
    "        ar[0]['antecedent support'] = ar[0]['consequent support']\n",
    "        ar[0]['consequent support'] = tmp\n",
    "        ar[0].rename(columns = {'confidence':'completeness'}, inplace = True)\n",
    "        ar[0]['conviction'] = ar[0].apply(lambda x: (x['antecedent support']*(1-x['consequent support']))/(x['antecedent support']-x['support']), axis = 1)\n",
    "    else:\n",
    "        ar.append(association_rules(frequent_itemsets, metric = static_metric_name, min_threshold = static_metric_value))\n",
    "        \n",
    "    rules = ar[0].loc[:,[\"antecedents\",\"consequents\"]].values.tolist()\n",
    "    print(\"Step 1 Ended: rules finded --> \", len(rules))\n",
    "    print(\"\\n\")\n",
    "    \n",
    "    transactions = tdt.sort_values(by='TimeStamp').groupby(['Transaction_ID']).agg(lambda x: list(x)).values.tolist()\n",
    "    sars = find_sars(transactions, rules, duration, temporal_support,  temporal_support_indicator, indicator_epsilon_value)\n",
    "    print(\"Step 2 Ended: temporal rules finded --> \", len(sars))\n",
    "    print(\"\\n\")\n",
    "    sars = filter_sars(sars, temporal_metric_name, temporal_metric_value)\n",
    "    ar.append(pd.DataFrame(sars, columns=['antecedents','consequents','support', 'supp_ant', 'supp_cons']))\n",
    "    print(\"Step 3 Ended: temporal rules remaining --> \", len(ar[1]))\n",
    "    print(\"\\n\")\n",
    "    return ar\n"
   ]
  },
  {
   "cell_type": "markdown",
   "metadata": {},
   "source": [
    "> **date_to_days(date):**\n",
    "\n",
    "This function transform a DateTime object in an integer representing the number of day passed since 1/1/0000.         \n",
    "\n",
    "**Input:**   \n",
    "    - *date:* DateTime object    \n",
    "    \n",
    "**Output:**   \n",
    "    - *x:* number of day since 1/1/0000 "
   ]
  },
  {
   "cell_type": "code",
   "execution_count": 9,
   "metadata": {},
   "outputs": [],
   "source": [
    "def date_to_days(date):\n",
    "    \n",
    "    months = [31, 28, 31, 30, 31, 30, 31, 31, 30, 31, 30, 31]\n",
    "    x = 0\n",
    "    bis = date.year % 4 == 0 and (date.year % 100 != 0 or date.year % 400 == 0)\n",
    "    \n",
    "    for i in range(0, date.year-1):\n",
    "        x = x + 365\n",
    "        if (i % 4 == 0 and (i % 100 != 0 or i % 400 == 0)):\n",
    "            x = x + 1\n",
    "    \n",
    "    for i in range(0, date.month-1):\n",
    "        x = x + months[i] \n",
    "    \n",
    "    if(date.month > 2 and bis):\n",
    "        x = x + 1\n",
    "    x = x + date.day \n",
    "    \n",
    "    return x \n"
   ]
  },
  {
   "cell_type": "markdown",
   "metadata": {},
   "source": [
    "## Dataset Loading and Preprocessing:"
   ]
  },
  {
   "cell_type": "markdown",
   "metadata": {},
   "source": [
    "In this phase we load the dataset as pandas DataFrame. The name of the main 3 attributes are changed to match the name detected by the function.   \n",
    "For the same reason the function *date_to_days* is applied to the ex-InvoiceDate column to transform the DateTime values in numerical values."
   ]
  },
  {
   "cell_type": "code",
   "execution_count": 10,
   "metadata": {},
   "outputs": [],
   "source": [
    "df = pd.read_excel(\"Online_Retail.xlsx\")"
   ]
  },
  {
   "cell_type": "code",
   "execution_count": 11,
   "metadata": {
    "scrolled": true
   },
   "outputs": [],
   "source": [
    "df = df.rename(columns = {\"CustomerID\":\"Transaction_ID\",\"Description\":\"Item_Label\",\"InvoiceDate\":\"TimeStamp\"})\n",
    "filtdf = df.loc[:,[\"Transaction_ID\",\"Item_Label\",\"TimeStamp\"]]\n",
    "filtdf['TimeStamp'] = filtdf['TimeStamp'].apply(date_to_days)"
   ]
  },
  {
   "cell_type": "markdown",
   "metadata": {},
   "source": [
    "## Rules extraction:"
   ]
  },
  {
   "cell_type": "markdown",
   "metadata": {},
   "source": [
    "The rules extraction has been made according to 3 different scenarios characterized by their different parameters:\n",
    "\n",
    "- sc1: \n",
    "    - *default parameters*.\n",
    "\n",
    "  \n",
    "- sc2:     \n",
    "    - *static_support = 0.05*    \n",
    "    - *static_metric_name = 'lift'*      \n",
    "    - *static_metric_value = 10* \n",
    "    - *duration = 100*\n",
    "    - *temporal_support_indicator = 'epsilon'* \n",
    "    - *indicator_epsilon_value = 0.49*    \n",
    "    - *temporal_support = 0.02*    \n",
    "    - *temporal_metric_name = 'lift'* \n",
    "    - *temporal_metric_value = 4* \n",
    "\n",
    "  \n",
    "- sc3:\n",
    "    - *static_support = 0.05*    \n",
    "    - *static_metric_name = 'confidence'*      \n",
    "    - *static_metric_value = 0.8* \n",
    "    - *duration = 100*\n",
    "    - *temporal_support_indicator = 'existential'*     \n",
    "    - *temporal_support = 0.02*    \n",
    "    - *temporal_metric_name = 'completeness'* \n",
    "    - *temporal_metric_value = 0.3*"
   ]
  },
  {
   "cell_type": "code",
   "execution_count": 12,
   "metadata": {},
   "outputs": [
    {
     "name": "stdout",
     "output_type": "stream",
     "text": [
      "Step 1 Ended: rules finded -->  26\n",
      "\n",
      "\n",
      "Step 2 Ended: temporal rules finded -->  9\n",
      "\n",
      "\n",
      "Step 3 Ended: temporal rules remaining -->  5\n",
      "\n",
      "\n"
     ]
    },
    {
     "data": {
      "text/html": [
       "<div>\n",
       "<style scoped>\n",
       "    .dataframe tbody tr th:only-of-type {\n",
       "        vertical-align: middle;\n",
       "    }\n",
       "\n",
       "    .dataframe tbody tr th {\n",
       "        vertical-align: top;\n",
       "    }\n",
       "\n",
       "    .dataframe thead th {\n",
       "        text-align: right;\n",
       "    }\n",
       "</style>\n",
       "<table border=\"1\" class=\"dataframe\">\n",
       "  <thead>\n",
       "    <tr style=\"text-align: right;\">\n",
       "      <th></th>\n",
       "      <th>antecedents</th>\n",
       "      <th>consequents</th>\n",
       "      <th>support</th>\n",
       "      <th>supp_ant</th>\n",
       "      <th>supp_cons</th>\n",
       "      <th>confidence</th>\n",
       "      <th>completeness</th>\n",
       "      <th>lift</th>\n",
       "      <th>jmeasure</th>\n",
       "    </tr>\n",
       "  </thead>\n",
       "  <tbody>\n",
       "    <tr>\n",
       "      <th>0</th>\n",
       "      <td>(ALARM CLOCK BAKELIKE GREEN)</td>\n",
       "      <td>(ALARM CLOCK BAKELIKE RED )</td>\n",
       "      <td>0.031336</td>\n",
       "      <td>0.073879</td>\n",
       "      <td>0.089433</td>\n",
       "      <td>0.424149</td>\n",
       "      <td>0.350384</td>\n",
       "      <td>4.742654</td>\n",
       "      <td>0.042246</td>\n",
       "    </tr>\n",
       "    <tr>\n",
       "      <th>1</th>\n",
       "      <td>(GREEN REGENCY TEACUP AND SAUCER)</td>\n",
       "      <td>(ROSES REGENCY TEACUP AND SAUCER )</td>\n",
       "      <td>0.026761</td>\n",
       "      <td>0.089204</td>\n",
       "      <td>0.097667</td>\n",
       "      <td>0.300000</td>\n",
       "      <td>0.274005</td>\n",
       "      <td>3.071663</td>\n",
       "      <td>0.020454</td>\n",
       "    </tr>\n",
       "    <tr>\n",
       "      <th>2</th>\n",
       "      <td>(PINK REGENCY TEACUP AND SAUCER)</td>\n",
       "      <td>(REGENCY CAKESTAND 3 TIER)</td>\n",
       "      <td>0.024245</td>\n",
       "      <td>0.073422</td>\n",
       "      <td>0.202882</td>\n",
       "      <td>0.330218</td>\n",
       "      <td>0.119504</td>\n",
       "      <td>1.627636</td>\n",
       "      <td>0.004691</td>\n",
       "    </tr>\n",
       "    <tr>\n",
       "      <th>3</th>\n",
       "      <td>(RED HANGING HEART T-LIGHT HOLDER)</td>\n",
       "      <td>(WHITE HANGING HEART T-LIGHT HOLDER)</td>\n",
       "      <td>0.028820</td>\n",
       "      <td>0.088060</td>\n",
       "      <td>0.196249</td>\n",
       "      <td>0.327273</td>\n",
       "      <td>0.146853</td>\n",
       "      <td>1.667641</td>\n",
       "      <td>0.006055</td>\n",
       "    </tr>\n",
       "    <tr>\n",
       "      <th>4</th>\n",
       "      <td>(PINK REGENCY TEACUP AND SAUCER, GREEN REGENCY...</td>\n",
       "      <td>(REGENCY CAKESTAND 3 TIER)</td>\n",
       "      <td>0.020152</td>\n",
       "      <td>0.067017</td>\n",
       "      <td>0.202882</td>\n",
       "      <td>0.300702</td>\n",
       "      <td>0.099330</td>\n",
       "      <td>1.482150</td>\n",
       "      <td>0.002588</td>\n",
       "    </tr>\n",
       "  </tbody>\n",
       "</table>\n",
       "</div>"
      ],
      "text/plain": [
       "                                         antecedents  \\\n",
       "0                       (ALARM CLOCK BAKELIKE GREEN)   \n",
       "1                  (GREEN REGENCY TEACUP AND SAUCER)   \n",
       "2                   (PINK REGENCY TEACUP AND SAUCER)   \n",
       "3                 (RED HANGING HEART T-LIGHT HOLDER)   \n",
       "4  (PINK REGENCY TEACUP AND SAUCER, GREEN REGENCY...   \n",
       "\n",
       "                            consequents   support  supp_ant  supp_cons  \\\n",
       "0           (ALARM CLOCK BAKELIKE RED )  0.031336  0.073879   0.089433   \n",
       "1    (ROSES REGENCY TEACUP AND SAUCER )  0.026761  0.089204   0.097667   \n",
       "2            (REGENCY CAKESTAND 3 TIER)  0.024245  0.073422   0.202882   \n",
       "3  (WHITE HANGING HEART T-LIGHT HOLDER)  0.028820  0.088060   0.196249   \n",
       "4            (REGENCY CAKESTAND 3 TIER)  0.020152  0.067017   0.202882   \n",
       "\n",
       "   confidence  completeness      lift  jmeasure  \n",
       "0    0.424149      0.350384  4.742654  0.042246  \n",
       "1    0.300000      0.274005  3.071663  0.020454  \n",
       "2    0.330218      0.119504  1.627636  0.004691  \n",
       "3    0.327273      0.146853  1.667641  0.006055  \n",
       "4    0.300702      0.099330  1.482150  0.002588  "
      ]
     },
     "execution_count": 12,
     "metadata": {},
     "output_type": "execute_result"
    }
   ],
   "source": [
    "sc1 = extract_sars(filtdf)\n",
    "sc1[1]['confidence'] = sc1[1].apply(lambda x: x['support']/x['supp_ant'], axis=1)\n",
    "sc1[1]['completeness'] = sc1[1].apply(lambda x: x['support']/x['supp_cons'], axis=1)\n",
    "sc1[1]['lift'] = sc1[1].apply(lambda x: x['support']/(x['supp_ant'] * x['supp_cons']), axis=1)\n",
    "sc1[1]['jmeasure'] = sc1[1].apply(lambda x: \n",
    "                                  (x['supp_ant'] * (x['confidence']*np.log2(x['confidence']/x['supp_cons'])+(1-x['confidence'])*np.log2((1-x['confidence'])/(1-x['supp_cons'])))), \n",
    "                                  axis=1)\n",
    "sc1[1]"
   ]
  },
  {
   "cell_type": "code",
   "execution_count": 19,
   "metadata": {},
   "outputs": [
    {
     "name": "stdout",
     "output_type": "stream",
     "text": [
      "Step 1 Ended: rules finded -->  22\n",
      "\n",
      "\n",
      "Step 2 Ended: temporal rules finded -->  5\n",
      "\n",
      "\n",
      "Step 3 Ended: temporal rules remaining -->  1\n",
      "\n",
      "\n"
     ]
    },
    {
     "data": {
      "text/html": [
       "<div>\n",
       "<style scoped>\n",
       "    .dataframe tbody tr th:only-of-type {\n",
       "        vertical-align: middle;\n",
       "    }\n",
       "\n",
       "    .dataframe tbody tr th {\n",
       "        vertical-align: top;\n",
       "    }\n",
       "\n",
       "    .dataframe thead th {\n",
       "        text-align: right;\n",
       "    }\n",
       "</style>\n",
       "<table border=\"1\" class=\"dataframe\">\n",
       "  <thead>\n",
       "    <tr style=\"text-align: right;\">\n",
       "      <th></th>\n",
       "      <th>antecedents</th>\n",
       "      <th>consequents</th>\n",
       "      <th>support</th>\n",
       "      <th>supp_ant</th>\n",
       "      <th>supp_cons</th>\n",
       "      <th>confidence</th>\n",
       "      <th>completeness</th>\n",
       "      <th>lift</th>\n",
       "      <th>jmeasure</th>\n",
       "    </tr>\n",
       "  </thead>\n",
       "  <tbody>\n",
       "    <tr>\n",
       "      <th>0</th>\n",
       "      <td>(DOLLY GIRL LUNCH BOX)</td>\n",
       "      <td>(SPACEBOY LUNCH BOX )</td>\n",
       "      <td>0.020357</td>\n",
       "      <td>0.065874</td>\n",
       "      <td>0.073651</td>\n",
       "      <td>0.309028</td>\n",
       "      <td>0.276398</td>\n",
       "      <td>4.195868</td>\n",
       "      <td>0.022867</td>\n",
       "    </tr>\n",
       "  </tbody>\n",
       "</table>\n",
       "</div>"
      ],
      "text/plain": [
       "              antecedents            consequents   support  supp_ant  \\\n",
       "0  (DOLLY GIRL LUNCH BOX)  (SPACEBOY LUNCH BOX )  0.020357  0.065874   \n",
       "\n",
       "   supp_cons  confidence  completeness      lift  jmeasure  \n",
       "0   0.073651    0.309028      0.276398  4.195868  0.022867  "
      ]
     },
     "execution_count": 19,
     "metadata": {},
     "output_type": "execute_result"
    }
   ],
   "source": [
    "sc2 = extract_sars(filtdf,\n",
    "                static_support = 0.05, \n",
    "                static_metric_name = 'lift', \n",
    "                static_metric_value = 10, \n",
    "                duration = 100, \n",
    "                temporal_support_indicator = 'epsilon', \n",
    "                indicator_epsilon_value = 0.49,\n",
    "                temporal_support = 0.02,\n",
    "                temporal_metric_name = 'lift',\n",
    "                temporal_metric_value = 4)\n",
    "sc2[1]['confidence'] = sc2[1].apply(lambda x: x['support']/x['supp_ant'], axis=1)\n",
    "sc2[1]['completeness'] = sc2[1].apply(lambda x: x['support']/x['supp_cons'], axis=1)\n",
    "sc2[1]['lift'] = sc2[1].apply(lambda x: x['support']/(x['supp_ant'] * x['supp_cons']), axis=1)\n",
    "sc2[1]['jmeasure'] = sc2[1].apply(lambda x: \n",
    "                                  (x['supp_ant'] * (x['confidence']*np.log2(x['confidence']/x['supp_cons'])+(1-x['confidence'])*np.log2((1-x['confidence'])/(1-x['supp_cons'])))), \n",
    "                                  axis=1)\n",
    "sc2[1]"
   ]
  },
  {
   "cell_type": "code",
   "execution_count": 20,
   "metadata": {},
   "outputs": [
    {
     "name": "stdout",
     "output_type": "stream",
     "text": [
      "Step 1 Ended: rules finded -->  26\n",
      "\n",
      "\n",
      "Step 2 Ended: temporal rules finded -->  12\n",
      "\n",
      "\n",
      "Step 3 Ended: temporal rules remaining -->  1\n",
      "\n",
      "\n"
     ]
    },
    {
     "data": {
      "text/html": [
       "<div>\n",
       "<style scoped>\n",
       "    .dataframe tbody tr th:only-of-type {\n",
       "        vertical-align: middle;\n",
       "    }\n",
       "\n",
       "    .dataframe tbody tr th {\n",
       "        vertical-align: top;\n",
       "    }\n",
       "\n",
       "    .dataframe thead th {\n",
       "        text-align: right;\n",
       "    }\n",
       "</style>\n",
       "<table border=\"1\" class=\"dataframe\">\n",
       "  <thead>\n",
       "    <tr style=\"text-align: right;\">\n",
       "      <th></th>\n",
       "      <th>antecedents</th>\n",
       "      <th>consequents</th>\n",
       "      <th>support</th>\n",
       "      <th>supp_ant</th>\n",
       "      <th>supp_cons</th>\n",
       "      <th>confidence</th>\n",
       "      <th>completeness</th>\n",
       "      <th>lift</th>\n",
       "      <th>jmeasure</th>\n",
       "    </tr>\n",
       "  </thead>\n",
       "  <tbody>\n",
       "    <tr>\n",
       "      <th>0</th>\n",
       "      <td>(ALARM CLOCK BAKELIKE GREEN)</td>\n",
       "      <td>(ALARM CLOCK BAKELIKE RED )</td>\n",
       "      <td>0.031336</td>\n",
       "      <td>0.073879</td>\n",
       "      <td>0.089433</td>\n",
       "      <td>0.424149</td>\n",
       "      <td>0.350384</td>\n",
       "      <td>4.742654</td>\n",
       "      <td>0.042246</td>\n",
       "    </tr>\n",
       "  </tbody>\n",
       "</table>\n",
       "</div>"
      ],
      "text/plain": [
       "                    antecedents                  consequents   support  \\\n",
       "0  (ALARM CLOCK BAKELIKE GREEN)  (ALARM CLOCK BAKELIKE RED )  0.031336   \n",
       "\n",
       "   supp_ant  supp_cons  confidence  completeness      lift  jmeasure  \n",
       "0  0.073879   0.089433    0.424149      0.350384  4.742654  0.042246  "
      ]
     },
     "execution_count": 20,
     "metadata": {},
     "output_type": "execute_result"
    }
   ],
   "source": [
    "sc3 = extract_sars(filtdf,\n",
    "                static_support = 0.05, \n",
    "                static_metric_name = 'confidence', \n",
    "                static_metric_value = 0.8, \n",
    "                duration = 100, \n",
    "                temporal_support_indicator = 'existential',\n",
    "                temporal_support = 0.02,\n",
    "                temporal_metric_name = 'completeness',\n",
    "                temporal_metric_value = 0.3)\n",
    "sc3[1]['confidence'] = sc3[1].apply(lambda x: x['support']/x['supp_ant'], axis=1)\n",
    "sc3[1]['completeness'] = sc3[1].apply(lambda x: x['support']/x['supp_cons'], axis=1)\n",
    "sc3[1]['lift'] = sc3[1].apply(lambda x: x['support']/(x['supp_ant'] * x['supp_cons']), axis=1)\n",
    "sc3[1]['jmeasure'] = sc3[1].apply(lambda x: \n",
    "                                  (x['supp_ant'] * (x['confidence']*np.log2(x['confidence']/x['supp_cons'])+(1-x['confidence'])*np.log2((1-x['confidence'])/(1-x['supp_cons'])))), \n",
    "                                  axis=1)\n",
    "sc3[1]"
   ]
  },
  {
   "cell_type": "markdown",
   "metadata": {},
   "source": [
    "##  Results and Visualization:"
   ]
  },
  {
   "cell_type": "markdown",
   "metadata": {},
   "source": [
    "What follow are the hit-map and the scatter-matrix related to the first scenario *sc1*.\n",
    "\n",
    "The most meaningfull in this scenario is:\n",
    "- _ALARM CLOCK BAKELIKE GREEN  **-->**  ALARM CLOCK BAKELIKE RED_ \n",
    "\n",
    "This rule, in the analyzed context, has the gretest values for each metrics in particolar for the lift value.\n",
    "Even the J-measure, although is quite low in absolute term, is significantly greater wrt the ones of the other rules."
   ]
  },
  {
   "cell_type": "code",
   "execution_count": 21,
   "metadata": {},
   "outputs": [
    {
     "data": {
      "image/png": "[encoded data removed]",
      "text/plain": [
       "<Figure size 432x288 with 2 Axes>"
      ]
     },
     "metadata": {
      "needs_background": "light"
     },
     "output_type": "display_data"
    }
   ],
   "source": [
    "sc1[1]['antecedents'] = sc1[1]['antecedents'].apply(lambda a: ','.join(list(a))) \n",
    "sc1[1]['consequents'] = sc1[1]['consequents'].apply(lambda a: ','.join(list(a)))\n",
    "st1 = sc1[1].pivot(index='consequents', columns='antecedents', values='confidence')\n",
    "hm1 = sns.heatmap(st1)"
   ]
  },
  {
   "cell_type": "code",
   "execution_count": 23,
   "metadata": {},
   "outputs": [
    {
     "data": {
      "image/png": "[encoded data removed]",
      "text/plain": [
       "<Figure size 1008x1008 with 49 Axes>"
      ]
     },
     "metadata": {
      "needs_background": "light"
     },
     "output_type": "display_data"
    }
   ],
   "source": [
    "scatter_matrix(sc1[1].replace([np.inf, -np.inf], np.nan).dropna(), figsize=(14, 14));"
   ]
  },
  {
   "cell_type": "code",
   "execution_count": null,
   "metadata": {},
   "outputs": [],
   "source": []
  }
 ],
 "metadata": {
  "kernelspec": {
   "display_name": "Python 3",
   "language": "python",
   "name": "python3"
  },
  "language_info": {
   "codemirror_mode": {
    "name": "ipython",
    "version": 3
   },
   "file_extension": ".py",
   "mimetype": "text/x-python",
   "name": "python",
   "nbconvert_exporter": "python",
   "pygments_lexer": "ipython3",
   "version": "3.8.8"
  }
 },
 "nbformat": 4,
 "nbformat_minor": 4
}
